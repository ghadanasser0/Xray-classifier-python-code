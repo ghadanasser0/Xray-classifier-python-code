{
  "nbformat": 4,
  "nbformat_minor": 0,
  "metadata": {
    "colab": {
      "provenance": []
    },
    "kernelspec": {
      "name": "python3",
      "display_name": "Python 3"
    },
    "language_info": {
      "name": "python"
    }
  },
  "cells": [
    {
      "cell_type": "code",
      "execution_count": null,
      "metadata": {
        "colab": {
          "base_uri": "https://localhost:8080/"
        },
        "id": "fdzSpodGgbUk",
        "outputId": "f46485f9-4750-4ce3-c80e-b5a5ccf52a6e"
      },
      "outputs": [
        {
          "output_type": "stream",
          "name": "stdout",
          "text": [
            "Mounted at /content/drive/\n"
          ]
        }
      ],
      "source": [
        "#My dataset is available in googledrive; so I am accessing my drive from colab\n",
        "from google.colab import drive\n",
        "drive.mount('/content/drive/', force_remount=True)\n",
        "#Once this is executed, you will see your drive appearing on the left hand side"
      ]
    },
    {
      "cell_type": "code",
      "source": [
        "# Define paths to the dataset\n",
        "train_dir = '/content/drive/MyDrive/Xray_Classifier/train'  # Update with your actual path\n",
        "test_dir = '/content/drive/MyDrive/Xray_Classifier/test'    # Update with your actual path"
      ],
      "metadata": {
        "id": "WlwfmcDwjsBB"
      },
      "execution_count": null,
      "outputs": []
    },
    {
      "cell_type": "code",
      "source": [
        "import os\n",
        "print(len(os.listdir('/content/drive/MyDrive/Xray_Classifier/train/xray')))\n",
        "print(len(os.listdir('/content/drive/MyDrive/Xray_Classifier/train/non_xray')))\n",
        "print(len(os.listdir('/content/drive/MyDrive/Xray_Classifier/test/xray')))\n",
        "print(len(os.listdir('/content/drive/MyDrive/Xray_Classifier/test/non_xray')))"
      ],
      "metadata": {
        "colab": {
          "base_uri": "https://localhost:8080/"
        },
        "id": "PhRcy_v6kEzJ",
        "outputId": "b3ff7e86-6c44-48f3-f107-b5e2f12a5510"
      },
      "execution_count": null,
      "outputs": [
        {
          "output_type": "stream",
          "name": "stdout",
          "text": [
            "595\n",
            "621\n",
            "238\n",
            "199\n"
          ]
        }
      ]
    },
    {
      "cell_type": "code",
      "source": [
        "import tensorflow as tf\n",
        "from tensorflow.keras.preprocessing.image import ImageDataGenerator\n",
        "\n",
        "# Create ImageDataGenerator for training set\n",
        "train_datagen = ImageDataGenerator(\n",
        "    rescale=1./255,\n",
        "    validation_split=0.2  # Split 20% of the images for validation\n",
        ")\n",
        "\n",
        "# Load and prepare training data\n",
        "train_data = train_datagen.flow_from_directory(\n",
        "    train_dir,\n",
        "    target_size=(256,256),\n",
        "    batch_size=32,\n",
        "    class_mode='binary',  # 'binary' for binary classification (cats vs. dogs)\n",
        "    subset='training'  # Specify 'training' for the training set\n",
        ")\n",
        "\n",
        "# Create ImageDataGenerator for validation set\n",
        "validation_datagen = ImageDataGenerator(\n",
        "    rescale=1./255,\n",
        "    validation_split=0.2  # Note: Using the same validation split as in the training set\n",
        ")\n",
        "\n",
        "# Load and prepare validation data\n",
        "validation_data = validation_datagen.flow_from_directory(\n",
        "    train_dir,\n",
        "    target_size=(256,256),\n",
        "    batch_size=32,\n",
        "    class_mode='binary',\n",
        "    subset='validation'  # Specify 'validation' for the validation set\n",
        ")"
      ],
      "metadata": {
        "colab": {
          "base_uri": "https://localhost:8080/"
        },
        "id": "GdMrUxGbka5g",
        "outputId": "50d1d899-cecf-4e87-a1c6-0d1a7cbbf79e"
      },
      "execution_count": null,
      "outputs": [
        {
          "output_type": "stream",
          "name": "stdout",
          "text": [
            "Found 973 images belonging to 2 classes.\n",
            "Found 242 images belonging to 2 classes.\n"
          ]
        }
      ]
    },
    {
      "cell_type": "code",
      "source": [
        "from tensorflow import keras\n",
        "from keras import Sequential\n",
        "from keras.layers import Dense,Conv2D,MaxPooling2D,Flatten,BatchNormalization,UpSampling2D, Dropout"
      ],
      "metadata": {
        "id": "XUIvL3t6kdbJ"
      },
      "execution_count": null,
      "outputs": []
    },
    {
      "cell_type": "code",
      "source": [
        "# create CNN model\n",
        "\n",
        "model = Sequential()\n",
        "\n",
        "model.add(Conv2D(32,kernel_size=(3,3),padding='valid',activation='relu',input_shape=(256,256,3)))  # 32 filters\n",
        "#model.add(BatchNormalization())  # added to reduce overfitting\n",
        "model.add(MaxPooling2D(pool_size=(2,2),strides=2,padding='valid'))\n",
        "\n",
        "model.add(Conv2D(64,kernel_size=(3,3),padding='valid',activation='relu'))\n",
        "#model.add(BatchNormalization())  # added to reduce overfitting\n",
        "model.add(MaxPooling2D(pool_size=(2,2),strides=2,padding='valid'))\n",
        "\n",
        "model.add(Conv2D(128,kernel_size=(3,3),padding='valid',activation='relu'))\n",
        "#model.add(BatchNormalization())  # added to reduce overfitting\n",
        "model.add(MaxPooling2D(pool_size=(2,2),strides=2,padding='valid'))\n",
        "\n",
        "model.add(Flatten())\n",
        "\n",
        "model.add(Dense(128,activation='relu')) #feature reduction\n",
        "#model.add(Dropout(0.1))  # added to reduce overfitting\n",
        "model.add(Dense(64,activation='relu'))\n",
        "#model.add(Dropout(0.1))  # added to reduce overfitting\n",
        "model.add(Dense(1,activation='sigmoid'))  #output layer"
      ],
      "metadata": {
        "id": "QMCWxgAakdgG"
      },
      "execution_count": null,
      "outputs": []
    },
    {
      "cell_type": "code",
      "source": [
        "from keras.optimizers import Adam\n",
        "model.compile(optimizer=Adam(learning_rate=0.001),loss='binary_crossentropy',metrics=['accuracy'])\n",
        "#binary_crossentropy - binary classification"
      ],
      "metadata": {
        "id": "KFg6ky9pkdiK"
      },
      "execution_count": null,
      "outputs": []
    },
    {
      "cell_type": "code",
      "source": [
        "history = model.fit(train_data, epochs=30, validation_data=validation_data)"
      ],
      "metadata": {
        "colab": {
          "base_uri": "https://localhost:8080/"
        },
        "id": "K18xnZLHkdj_",
        "outputId": "91976698-e833-404f-84fc-5abba84d9787"
      },
      "execution_count": null,
      "outputs": [
        {
          "output_type": "stream",
          "name": "stdout",
          "text": [
            "Epoch 1/30\n",
            "31/31 [==============================] - 169s 5s/step - loss: 0.2718 - accuracy: 0.8911 - val_loss: 0.0802 - val_accuracy: 0.9752\n",
            "Epoch 2/30\n",
            "31/31 [==============================] - 159s 5s/step - loss: 0.1088 - accuracy: 0.9661 - val_loss: 0.0568 - val_accuracy: 0.9793\n",
            "Epoch 3/30\n",
            "31/31 [==============================] - 176s 6s/step - loss: 0.0709 - accuracy: 0.9846 - val_loss: 0.0496 - val_accuracy: 0.9793\n",
            "Epoch 4/30\n",
            "31/31 [==============================] - 179s 6s/step - loss: 0.0196 - accuracy: 0.9928 - val_loss: 0.1112 - val_accuracy: 0.9752\n",
            "Epoch 5/30\n",
            "31/31 [==============================] - 178s 6s/step - loss: 0.0069 - accuracy: 0.9979 - val_loss: 0.0852 - val_accuracy: 0.9793\n",
            "Epoch 6/30\n",
            "31/31 [==============================] - 177s 6s/step - loss: 0.0076 - accuracy: 0.9969 - val_loss: 0.3116 - val_accuracy: 0.9380\n",
            "Epoch 7/30\n",
            "31/31 [==============================] - 163s 5s/step - loss: 0.0045 - accuracy: 0.9979 - val_loss: 0.0781 - val_accuracy: 0.9835\n",
            "Epoch 8/30\n",
            "31/31 [==============================] - 175s 6s/step - loss: 0.0018 - accuracy: 0.9990 - val_loss: 0.0716 - val_accuracy: 0.9876\n",
            "Epoch 9/30\n",
            "31/31 [==============================] - 160s 5s/step - loss: 2.1924e-05 - accuracy: 1.0000 - val_loss: 0.1334 - val_accuracy: 0.9835\n",
            "Epoch 10/30\n",
            "31/31 [==============================] - 168s 5s/step - loss: 9.9298e-06 - accuracy: 1.0000 - val_loss: 0.1240 - val_accuracy: 0.9835\n",
            "Epoch 11/30\n",
            "31/31 [==============================] - 177s 6s/step - loss: 4.3937e-06 - accuracy: 1.0000 - val_loss: 0.1212 - val_accuracy: 0.9835\n",
            "Epoch 12/30\n",
            "31/31 [==============================] - 178s 6s/step - loss: 3.7655e-06 - accuracy: 1.0000 - val_loss: 0.1205 - val_accuracy: 0.9835\n",
            "Epoch 13/30\n",
            "31/31 [==============================] - 172s 6s/step - loss: 3.3872e-06 - accuracy: 1.0000 - val_loss: 0.1201 - val_accuracy: 0.9835\n",
            "Epoch 14/30\n",
            "31/31 [==============================] - 177s 6s/step - loss: 3.0709e-06 - accuracy: 1.0000 - val_loss: 0.1201 - val_accuracy: 0.9835\n",
            "Epoch 15/30\n",
            "31/31 [==============================] - 171s 5s/step - loss: 2.7907e-06 - accuracy: 1.0000 - val_loss: 0.1204 - val_accuracy: 0.9835\n",
            "Epoch 16/30\n",
            "31/31 [==============================] - 164s 5s/step - loss: 2.6039e-06 - accuracy: 1.0000 - val_loss: 0.1205 - val_accuracy: 0.9835\n",
            "Epoch 17/30\n",
            "31/31 [==============================] - 170s 5s/step - loss: 2.4144e-06 - accuracy: 1.0000 - val_loss: 0.1206 - val_accuracy: 0.9835\n",
            "Epoch 18/30\n",
            "31/31 [==============================] - 185s 6s/step - loss: 2.2378e-06 - accuracy: 1.0000 - val_loss: 0.1212 - val_accuracy: 0.9835\n",
            "Epoch 19/30\n",
            "31/31 [==============================] - 176s 6s/step - loss: 2.0996e-06 - accuracy: 1.0000 - val_loss: 0.1212 - val_accuracy: 0.9835\n",
            "Epoch 20/30\n",
            "31/31 [==============================] - 185s 6s/step - loss: 1.9316e-06 - accuracy: 1.0000 - val_loss: 0.1215 - val_accuracy: 0.9835\n",
            "Epoch 21/30\n",
            "31/31 [==============================] - 193s 6s/step - loss: 1.8154e-06 - accuracy: 1.0000 - val_loss: 0.1217 - val_accuracy: 0.9835\n",
            "Epoch 22/30\n",
            "31/31 [==============================] - 195s 6s/step - loss: 1.6770e-06 - accuracy: 1.0000 - val_loss: 0.1224 - val_accuracy: 0.9835\n",
            "Epoch 23/30\n",
            "31/31 [==============================] - 182s 6s/step - loss: 1.5806e-06 - accuracy: 1.0000 - val_loss: 0.1233 - val_accuracy: 0.9835\n",
            "Epoch 24/30\n",
            "31/31 [==============================] - 189s 6s/step - loss: 1.4616e-06 - accuracy: 1.0000 - val_loss: 0.1232 - val_accuracy: 0.9835\n",
            "Epoch 25/30\n",
            "31/31 [==============================] - 189s 6s/step - loss: 1.3773e-06 - accuracy: 1.0000 - val_loss: 0.1235 - val_accuracy: 0.9835\n",
            "Epoch 26/30\n",
            "31/31 [==============================] - 186s 6s/step - loss: 1.2888e-06 - accuracy: 1.0000 - val_loss: 0.1237 - val_accuracy: 0.9835\n",
            "Epoch 27/30\n",
            "31/31 [==============================] - 178s 6s/step - loss: 1.2190e-06 - accuracy: 1.0000 - val_loss: 0.1238 - val_accuracy: 0.9835\n",
            "Epoch 28/30\n",
            "31/31 [==============================] - 181s 6s/step - loss: 1.1664e-06 - accuracy: 1.0000 - val_loss: 0.1246 - val_accuracy: 0.9835\n",
            "Epoch 29/30\n",
            "31/31 [==============================] - 159s 5s/step - loss: 1.0894e-06 - accuracy: 1.0000 - val_loss: 0.1244 - val_accuracy: 0.9835\n",
            "Epoch 30/30\n",
            "31/31 [==============================] - 161s 5s/step - loss: 1.0506e-06 - accuracy: 1.0000 - val_loss: 0.1244 - val_accuracy: 0.9835\n"
          ]
        }
      ]
    },
    {
      "cell_type": "code",
      "source": [
        "import matplotlib.pyplot as plt\n",
        "\n",
        "plt.plot(history.history['accuracy'],color='red',label='train')\n",
        "plt.plot(history.history['val_accuracy'],color='blue',label='validation')\n",
        "plt.legend()\n",
        "plt.show()"
      ],
      "metadata": {
        "id": "laaYjoK7kdlz",
        "colab": {
          "base_uri": "https://localhost:8080/",
          "height": 430
        },
        "outputId": "acb250b1-d6b3-452e-9b15-9e84ec3f1a52"
      },
      "execution_count": null,
      "outputs": [
        {
          "output_type": "display_data",
          "data": {
            "text/plain": [
              "<Figure size 640x480 with 1 Axes>"
            ],
            "image/png": "[encoded data removed]"
          },
          "metadata": {}
        }
      ]
    },
    {
      "cell_type": "code",
      "source": [
        "plt.plot(history.history['loss'],color='red',label='train')\n",
        "plt.plot(history.history['val_loss'],color='blue',label='validation')\n",
        "plt.legend()\n",
        "plt.show()"
      ],
      "metadata": {
        "id": "6lMYJiDQkoTG",
        "colab": {
          "base_uri": "https://localhost:8080/",
          "height": 430
        },
        "outputId": "7c20e024-7faa-4775-e235-748ce6190f7a"
      },
      "execution_count": null,
      "outputs": [
        {
          "output_type": "display_data",
          "data": {
            "text/plain": [
              "<Figure size 640x480 with 1 Axes>"
            ],
            "image/png": "[encoded data removed]"
          },
          "metadata": {}
        }
      ]
    },
    {
      "cell_type": "code",
      "source": [
        "test_datagen = ImageDataGenerator(rescale=1./255)\n",
        "test_data = test_datagen.flow_from_directory(\n",
        "    test_dir,\n",
        "    target_size=(256,256),\n",
        "    batch_size=32,\n",
        "    class_mode='binary'\n",
        ")"
      ],
      "metadata": {
        "id": "ce8LkunykoU2",
        "colab": {
          "base_uri": "https://localhost:8080/"
        },
        "outputId": "34a19318-1019-4843-b9f4-4add6894ecc1"
      },
      "execution_count": null,
      "outputs": [
        {
          "output_type": "stream",
          "name": "stdout",
          "text": [
            "Found 437 images belonging to 2 classes.\n"
          ]
        }
      ]
    },
    {
      "cell_type": "code",
      "source": [
        "#predict the test data\n",
        "predictions = model.predict(test_data)\n",
        "print(predictions)"
      ],
      "metadata": {
        "id": "xvoD8i9MkoW9",
        "colab": {
          "base_uri": "https://localhost:8080/"
        },
        "outputId": "608709e0-f5b6-42ef-8d3c-c6ea6f2d11bc"
      },
      "execution_count": null,
      "outputs": [
        {
          "output_type": "stream",
          "name": "stdout",
          "text": [
            "14/14 [==============================] - 72s 5s/step\n",
            "[[9.54987556e-09]\n",
            " [0.00000000e+00]\n",
            " [1.00000000e+00]\n",
            " [1.00000000e+00]\n",
            " [0.00000000e+00]\n",
            " [0.00000000e+00]\n",
            " [0.00000000e+00]\n",
            " [7.33639975e-21]\n",
            " [1.00000000e+00]\n",
            " [9.99998927e-01]\n",
            " [0.00000000e+00]\n",
            " [1.18251677e-29]\n",
            " [1.00000000e+00]\n",
            " [0.00000000e+00]\n",
            " [0.00000000e+00]\n",
            " [0.00000000e+00]\n",
            " [1.00000000e+00]\n",
            " [1.00000000e+00]\n",
            " [1.00000000e+00]\n",
            " [0.00000000e+00]\n",
            " [8.13240060e-14]\n",
            " [9.99999881e-01]\n",
            " [1.00000000e+00]\n",
            " [9.99999940e-01]\n",
            " [8.54334936e-11]\n",
            " [4.78542037e-24]\n",
            " [3.81030496e-08]\n",
            " [0.00000000e+00]\n",
            " [0.00000000e+00]\n",
            " [1.00000000e+00]\n",
            " [1.00000000e+00]\n",
            " [0.00000000e+00]\n",
            " [1.00000000e+00]\n",
            " [9.99999642e-01]\n",
            " [0.00000000e+00]\n",
            " [1.00000000e+00]\n",
            " [2.36680691e-30]\n",
            " [2.67304928e-10]\n",
            " [8.55393838e-32]\n",
            " [2.55984133e-07]\n",
            " [1.00000000e+00]\n",
            " [1.52657958e-04]\n",
            " [1.20515954e-21]\n",
            " [1.00000000e+00]\n",
            " [1.31656279e-30]\n",
            " [0.00000000e+00]\n",
            " [1.00000000e+00]\n",
            " [0.00000000e+00]\n",
            " [9.99996185e-01]\n",
            " [0.00000000e+00]\n",
            " [1.00000000e+00]\n",
            " [1.00000000e+00]\n",
            " [0.00000000e+00]\n",
            " [0.00000000e+00]\n",
            " [0.00000000e+00]\n",
            " [1.00000000e+00]\n",
            " [5.90315952e-34]\n",
            " [1.00000000e+00]\n",
            " [9.99999404e-01]\n",
            " [0.00000000e+00]\n",
            " [1.30505504e-33]\n",
            " [1.00000000e+00]\n",
            " [1.00000000e+00]\n",
            " [1.43122787e-36]\n",
            " [2.35346943e-06]\n",
            " [1.00000000e+00]\n",
            " [1.00000000e+00]\n",
            " [9.99999940e-01]\n",
            " [1.00000000e+00]\n",
            " [3.72116869e-29]\n",
            " [1.93502784e-01]\n",
            " [1.00000000e+00]\n",
            " [9.99999702e-01]\n",
            " [9.99999166e-01]\n",
            " [9.99999821e-01]\n",
            " [1.16869544e-29]\n",
            " [1.00000000e+00]\n",
            " [1.00000000e+00]\n",
            " [2.67076529e-29]\n",
            " [0.00000000e+00]\n",
            " [1.00000000e+00]\n",
            " [8.27582174e-23]\n",
            " [1.26973624e-27]\n",
            " [0.00000000e+00]\n",
            " [9.99999881e-01]\n",
            " [9.16601987e-16]\n",
            " [1.00000000e+00]\n",
            " [0.00000000e+00]\n",
            " [0.00000000e+00]\n",
            " [1.00000000e+00]\n",
            " [1.00000000e+00]\n",
            " [1.00000000e+00]\n",
            " [9.06358807e-31]\n",
            " [1.00000000e+00]\n",
            " [9.99999881e-01]\n",
            " [1.00000000e+00]\n",
            " [0.00000000e+00]\n",
            " [1.00000000e+00]\n",
            " [0.00000000e+00]\n",
            " [0.00000000e+00]\n",
            " [0.00000000e+00]\n",
            " [1.00000000e+00]\n",
            " [1.00000000e+00]\n",
            " [2.07733062e-21]\n",
            " [1.66438528e-24]\n",
            " [0.00000000e+00]\n",
            " [0.00000000e+00]\n",
            " [1.00000000e+00]\n",
            " [0.00000000e+00]\n",
            " [1.00000000e+00]\n",
            " [1.03221503e-24]\n",
            " [3.33427538e-35]\n",
            " [1.52602985e-28]\n",
            " [1.00000000e+00]\n",
            " [1.00000000e+00]\n",
            " [1.00000000e+00]\n",
            " [1.00000000e+00]\n",
            " [1.11969688e-19]\n",
            " [1.00000000e+00]\n",
            " [1.00000000e+00]\n",
            " [9.99999940e-01]\n",
            " [1.00000000e+00]\n",
            " [0.00000000e+00]\n",
            " [1.49929569e-29]\n",
            " [1.00000000e+00]\n",
            " [9.99999881e-01]\n",
            " [1.00000000e+00]\n",
            " [1.00000000e+00]\n",
            " [3.27244096e-36]\n",
            " [1.00000000e+00]\n",
            " [1.00000000e+00]\n",
            " [1.00000000e+00]\n",
            " [1.00000000e+00]\n",
            " [0.00000000e+00]\n",
            " [0.00000000e+00]\n",
            " [1.00000000e+00]\n",
            " [0.00000000e+00]\n",
            " [0.00000000e+00]\n",
            " [1.00000000e+00]\n",
            " [1.00000000e+00]\n",
            " [9.99999940e-01]\n",
            " [1.00000000e+00]\n",
            " [9.99999940e-01]\n",
            " [5.23357499e-29]\n",
            " [1.00000000e+00]\n",
            " [9.99999762e-01]\n",
            " [1.00000000e+00]\n",
            " [1.40609418e-24]\n",
            " [1.09708732e-23]\n",
            " [1.00000000e+00]\n",
            " [1.00000000e+00]\n",
            " [1.00000000e+00]\n",
            " [1.00000000e+00]\n",
            " [2.72416556e-09]\n",
            " [1.00000000e+00]\n",
            " [1.00000000e+00]\n",
            " [1.00000000e+00]\n",
            " [1.00000000e+00]\n",
            " [1.23261002e-36]\n",
            " [9.99999940e-01]\n",
            " [1.00000000e+00]\n",
            " [0.00000000e+00]\n",
            " [1.00000000e+00]\n",
            " [1.74571460e-21]\n",
            " [1.59448638e-32]\n",
            " [1.63226250e-08]\n",
            " [1.00000000e+00]\n",
            " [1.68000844e-30]\n",
            " [1.00000000e+00]\n",
            " [0.00000000e+00]\n",
            " [1.00000000e+00]\n",
            " [4.37630838e-08]\n",
            " [1.00000000e+00]\n",
            " [1.00000000e+00]\n",
            " [0.00000000e+00]\n",
            " [0.00000000e+00]\n",
            " [4.80174553e-03]\n",
            " [1.00000000e+00]\n",
            " [1.00000000e+00]\n",
            " [3.13237024e-06]\n",
            " [0.00000000e+00]\n",
            " [0.00000000e+00]\n",
            " [1.00000000e+00]\n",
            " [1.00000000e+00]\n",
            " [0.00000000e+00]\n",
            " [9.99999762e-01]\n",
            " [3.20782861e-26]\n",
            " [0.00000000e+00]\n",
            " [1.00000000e+00]\n",
            " [9.99999464e-01]\n",
            " [1.00000000e+00]\n",
            " [9.99998689e-01]\n",
            " [1.00000000e+00]\n",
            " [1.57212566e-34]\n",
            " [1.00000000e+00]\n",
            " [9.15588088e-17]\n",
            " [1.00000000e+00]\n",
            " [2.99854112e-29]\n",
            " [1.00000000e+00]\n",
            " [0.00000000e+00]\n",
            " [9.62854995e-22]\n",
            " [0.00000000e+00]\n",
            " [1.00000000e+00]\n",
            " [0.00000000e+00]\n",
            " [1.00000000e+00]\n",
            " [4.52351472e-29]\n",
            " [7.36512047e-34]\n",
            " [9.99998391e-01]\n",
            " [1.05494342e-20]\n",
            " [0.00000000e+00]\n",
            " [0.00000000e+00]\n",
            " [3.66420720e-20]\n",
            " [1.00000000e+00]\n",
            " [1.00000000e+00]\n",
            " [1.00000000e+00]\n",
            " [1.00000000e+00]\n",
            " [9.99999404e-01]\n",
            " [1.00000000e+00]\n",
            " [1.71102975e-35]\n",
            " [0.00000000e+00]\n",
            " [9.99996722e-01]\n",
            " [9.99999940e-01]\n",
            " [1.00000000e+00]\n",
            " [0.00000000e+00]\n",
            " [1.22869034e-28]\n",
            " [1.16384014e-09]\n",
            " [2.64536496e-37]\n",
            " [9.99999762e-01]\n",
            " [6.10702586e-24]\n",
            " [1.00000000e+00]\n",
            " [9.99999642e-01]\n",
            " [1.00000000e+00]\n",
            " [3.16319652e-33]\n",
            " [1.80376203e-37]\n",
            " [0.00000000e+00]\n",
            " [1.00000000e+00]\n",
            " [1.00000000e+00]\n",
            " [9.99999821e-01]\n",
            " [1.00000000e+00]\n",
            " [1.00000000e+00]\n",
            " [1.00000000e+00]\n",
            " [2.49571558e-19]\n",
            " [0.00000000e+00]\n",
            " [1.00000000e+00]\n",
            " [1.00000000e+00]\n",
            " [1.00000000e+00]\n",
            " [0.00000000e+00]\n",
            " [1.00000000e+00]\n",
            " [1.00000000e+00]\n",
            " [1.79047021e-36]\n",
            " [9.99999881e-01]\n",
            " [1.00000000e+00]\n",
            " [1.00000000e+00]\n",
            " [0.00000000e+00]\n",
            " [4.04307479e-18]\n",
            " [2.45103223e-07]\n",
            " [3.54813829e-36]\n",
            " [1.00000000e+00]\n",
            " [1.00000000e+00]\n",
            " [9.99996662e-01]\n",
            " [1.00000000e+00]\n",
            " [1.00000000e+00]\n",
            " [1.00000000e+00]\n",
            " [1.00000000e+00]\n",
            " [1.00000000e+00]\n",
            " [1.00000000e+00]\n",
            " [9.99999881e-01]\n",
            " [1.00000000e+00]\n",
            " [0.00000000e+00]\n",
            " [1.00000000e+00]\n",
            " [1.00000000e+00]\n",
            " [1.13594229e-26]\n",
            " [1.46754055e-13]\n",
            " [1.00000000e+00]\n",
            " [9.99999881e-01]\n",
            " [1.00000000e+00]\n",
            " [1.00000000e+00]\n",
            " [0.00000000e+00]\n",
            " [1.00000000e+00]\n",
            " [1.00000000e+00]\n",
            " [1.00000000e+00]\n",
            " [1.00000000e+00]\n",
            " [1.00000000e+00]\n",
            " [5.50928821e-24]\n",
            " [9.20765623e-02]\n",
            " [5.18742919e-01]\n",
            " [1.00000000e+00]\n",
            " [6.54461186e-13]\n",
            " [1.00000000e+00]\n",
            " [3.60067531e-09]\n",
            " [9.99984205e-01]\n",
            " [1.00000000e+00]\n",
            " [1.00000000e+00]\n",
            " [1.12681976e-24]\n",
            " [1.00000000e+00]\n",
            " [9.16588011e-16]\n",
            " [1.00000000e+00]\n",
            " [1.00000000e+00]\n",
            " [1.00000000e+00]\n",
            " [0.00000000e+00]\n",
            " [9.99999285e-01]\n",
            " [1.00000000e+00]\n",
            " [1.00000000e+00]\n",
            " [1.22644140e-30]\n",
            " [1.00000000e+00]\n",
            " [1.00000000e+00]\n",
            " [1.00000000e+00]\n",
            " [1.00000000e+00]\n",
            " [2.15424876e-20]\n",
            " [0.00000000e+00]\n",
            " [1.00000000e+00]\n",
            " [0.00000000e+00]\n",
            " [1.00000000e+00]\n",
            " [4.42611192e-31]\n",
            " [1.00000000e+00]\n",
            " [0.00000000e+00]\n",
            " [7.85527042e-36]\n",
            " [1.00000000e+00]\n",
            " [0.00000000e+00]\n",
            " [1.00000000e+00]\n",
            " [1.00000000e+00]\n",
            " [9.99990821e-01]\n",
            " [0.00000000e+00]\n",
            " [1.00000000e+00]\n",
            " [9.75711167e-01]\n",
            " [2.98501260e-17]\n",
            " [1.00000000e+00]\n",
            " [8.55646600e-36]\n",
            " [1.80621509e-35]\n",
            " [1.00000000e+00]\n",
            " [2.86295969e-32]\n",
            " [0.00000000e+00]\n",
            " [1.00000000e+00]\n",
            " [1.00000000e+00]\n",
            " [5.94281460e-26]\n",
            " [1.00000000e+00]\n",
            " [1.00000000e+00]\n",
            " [9.99999523e-01]\n",
            " [1.67088505e-26]\n",
            " [1.50306374e-29]\n",
            " [0.00000000e+00]\n",
            " [1.77351501e-38]\n",
            " [1.00000000e+00]\n",
            " [1.00000000e+00]\n",
            " [1.80091876e-26]\n",
            " [2.06011648e-16]\n",
            " [1.00000000e+00]\n",
            " [1.00000000e+00]\n",
            " [1.00000000e+00]\n",
            " [1.00000000e+00]\n",
            " [1.00000000e+00]\n",
            " [1.50106510e-35]\n",
            " [0.00000000e+00]\n",
            " [1.00000000e+00]\n",
            " [1.54614267e-17]\n",
            " [9.99998450e-01]\n",
            " [1.00000000e+00]\n",
            " [1.00000000e+00]\n",
            " [9.99996841e-01]\n",
            " [1.00000000e+00]\n",
            " [1.52313802e-03]\n",
            " [0.00000000e+00]\n",
            " [2.28923521e-35]\n",
            " [9.99999642e-01]\n",
            " [1.00000000e+00]\n",
            " [1.00000000e+00]\n",
            " [0.00000000e+00]\n",
            " [9.99999642e-01]\n",
            " [1.03891907e-05]\n",
            " [7.67389899e-26]\n",
            " [0.00000000e+00]\n",
            " [0.00000000e+00]\n",
            " [1.00000000e+00]\n",
            " [9.99999881e-01]\n",
            " [1.00000000e+00]\n",
            " [0.00000000e+00]\n",
            " [0.00000000e+00]\n",
            " [1.70700620e-10]\n",
            " [1.26582281e-36]\n",
            " [0.00000000e+00]\n",
            " [9.99990821e-01]\n",
            " [0.00000000e+00]\n",
            " [1.00000000e+00]\n",
            " [1.00000000e+00]\n",
            " [0.00000000e+00]\n",
            " [1.00000000e+00]\n",
            " [3.24943623e-16]\n",
            " [1.00000000e+00]\n",
            " [1.00000000e+00]\n",
            " [0.00000000e+00]\n",
            " [1.00000000e+00]\n",
            " [2.24062493e-08]\n",
            " [4.32078399e-21]\n",
            " [7.71086008e-14]\n",
            " [9.99999881e-01]\n",
            " [0.00000000e+00]\n",
            " [1.00000000e+00]\n",
            " [1.00000000e+00]\n",
            " [1.82766191e-25]\n",
            " [1.89703884e-13]\n",
            " [6.03352229e-11]\n",
            " [9.99999225e-01]\n",
            " [9.99993265e-01]\n",
            " [0.00000000e+00]\n",
            " [1.00000000e+00]\n",
            " [2.66536577e-18]\n",
            " [7.79003804e-21]\n",
            " [1.00000000e+00]\n",
            " [1.41780977e-23]\n",
            " [9.03181790e-04]\n",
            " [1.00000000e+00]\n",
            " [1.00000000e+00]\n",
            " [7.96845676e-19]\n",
            " [1.00000000e+00]\n",
            " [1.43241850e-36]\n",
            " [1.00000000e+00]\n",
            " [1.00000000e+00]\n",
            " [1.00000000e+00]\n",
            " [0.00000000e+00]\n",
            " [0.00000000e+00]\n",
            " [1.00000000e+00]\n",
            " [1.00000000e+00]\n",
            " [9.99999940e-01]\n",
            " [2.40174604e-26]\n",
            " [1.00000000e+00]\n",
            " [0.00000000e+00]\n",
            " [2.05110980e-13]\n",
            " [1.71152248e-24]\n",
            " [1.00000000e+00]\n",
            " [1.00000000e+00]\n",
            " [1.00000000e+00]\n",
            " [1.00000000e+00]\n",
            " [1.00000000e+00]\n",
            " [2.96935980e-34]\n",
            " [9.99985933e-01]\n",
            " [1.98199750e-22]\n",
            " [1.00000000e+00]]\n"
          ]
        }
      ]
    },
    {
      "cell_type": "code",
      "source": [
        "len(predictions)"
      ],
      "metadata": {
        "id": "6DWCf36OktM-",
        "colab": {
          "base_uri": "https://localhost:8080/"
        },
        "outputId": "1cb85f44-e796-4814-a09b-ce28c60d16ce"
      },
      "execution_count": null,
      "outputs": [
        {
          "output_type": "execute_result",
          "data": {
            "text/plain": [
              "437"
            ]
          },
          "metadata": {},
          "execution_count": 34
        }
      ]
    },
    {
      "cell_type": "code",
      "source": [
        "from sklearn.metrics import confusion_matrix, classification_report\n",
        "\n",
        "# Assuming you have ground truth labels (true_labels) and predicted labels (predictions)\n",
        "true_labels = test_data.classes\n",
        "predicted_labels = (predictions > 0.5).astype(int)  # Adjust the threshold as needed\n",
        "\n",
        "# Calculate confusion matrix\n",
        "cm = confusion_matrix(true_labels, predicted_labels)\n",
        "\n",
        "# Print confusion matrix\n",
        "print(\"Confusion Matrix:\")\n",
        "print(cm)\n",
        "\n",
        "# Print classification report\n",
        "print(\"Classification Report:\")\n",
        "print(classification_report(true_labels, predicted_labels))"
      ],
      "metadata": {
        "id": "kyIREOLykxy1",
        "colab": {
          "base_uri": "https://localhost:8080/"
        },
        "outputId": "2bc2af1d-c5f4-477e-a858-ad2115a3473a"
      },
      "execution_count": null,
      "outputs": [
        {
          "output_type": "stream",
          "name": "stdout",
          "text": [
            "Confusion Matrix:\n",
            "[[ 94 105]\n",
            " [102 136]]\n",
            "Classification Report:\n",
            "              precision    recall  f1-score   support\n",
            "\n",
            "           0       0.48      0.47      0.48       199\n",
            "           1       0.56      0.57      0.57       238\n",
            "\n",
            "    accuracy                           0.53       437\n",
            "   macro avg       0.52      0.52      0.52       437\n",
            "weighted avg       0.53      0.53      0.53       437\n",
            "\n"
          ]
        }
      ]
    },
    {
      "cell_type": "code",
      "source": [
        "# Pre-trained CNN"
      ],
      "metadata": {
        "id": "uD7wbWwP9QUY"
      },
      "execution_count": null,
      "outputs": []
    },
    {
      "cell_type": "code",
      "source": [
        "#My dataset is available in googledrive; so I am accessing my drive from colab\n",
        "from google.colab import drive\n",
        "drive.mount('/content/drive/', force_remount=True)\n",
        "#Once this is executed, you will see your drive appearing on the left hand side"
      ],
      "metadata": {
        "id": "iumOwc309Qap",
        "colab": {
          "base_uri": "https://localhost:8080/"
        },
        "outputId": "a6fb4d2b-6f4e-4a63-96e3-d50a544002b4"
      },
      "execution_count": null,
      "outputs": [
        {
          "output_type": "stream",
          "name": "stdout",
          "text": [
            "Mounted at /content/drive/\n"
          ]
        }
      ]
    },
    {
      "cell_type": "code",
      "source": [
        "# Define paths to the dataset\n",
        "train_dir = '/content/drive/MyDrive/Xray_Classifier/train'  # Update with your actual path\n",
        "test_dir = '/content/drive/MyDrive/Xray_Classifier/test'    # Update with your actual path"
      ],
      "metadata": {
        "id": "Gd0yuzu-9Qc7"
      },
      "execution_count": null,
      "outputs": []
    },
    {
      "cell_type": "code",
      "source": [
        "import os\n",
        "print(len(os.listdir('/content/drive/MyDrive/Xray_Classifier/train/xray')))\n",
        "print(len(os.listdir('/content/drive/MyDrive/Xray_Classifier/train/non_xray')))\n",
        "print(len(os.listdir('/content/drive/MyDrive/Xray_Classifier/test/xray')))\n",
        "print(len(os.listdir('/content/drive/MyDrive/Xray_Classifier/test/non_xray')))"
      ],
      "metadata": {
        "id": "MvBRXEZk9QfR",
        "colab": {
          "base_uri": "https://localhost:8080/"
        },
        "outputId": "1ff0199b-3013-47cb-c3cf-ca9093b1c776"
      },
      "execution_count": null,
      "outputs": [
        {
          "output_type": "stream",
          "name": "stdout",
          "text": [
            "595\n",
            "621\n",
            "238\n",
            "199\n"
          ]
        }
      ]
    },
    {
      "cell_type": "code",
      "source": [
        "import tensorflow as tf\n",
        "from tensorflow.keras.preprocessing.image import ImageDataGenerator\n",
        "\n",
        "# Create ImageDataGenerator for training set\n",
        "train_datagen = ImageDataGenerator(\n",
        "    rescale=1./255,\n",
        "    validation_split=0.2  # Split 20% of the images for validation\n",
        ")\n",
        "\n",
        "# Load and prepare training data\n",
        "train_data = train_datagen.flow_from_directory(\n",
        "    train_dir,\n",
        "    target_size=(256,256),\n",
        "    batch_size=32,\n",
        "    class_mode='binary',  # 'binary' for binary classification (cats vs. dogs)\n",
        "    subset='training'  # Specify 'training' for the training set\n",
        ")\n",
        "\n",
        "# Create ImageDataGenerator for validation set\n",
        "validation_datagen = ImageDataGenerator(\n",
        "    rescale=1./255,\n",
        "    validation_split=0.2  # Note: Using the same validation split as in the training set\n",
        ")\n",
        "\n",
        "# Load and prepare validation data\n",
        "validation_data = validation_datagen.flow_from_directory(\n",
        "    train_dir,\n",
        "    target_size=(256,256),\n",
        "    batch_size=32,\n",
        "    class_mode='binary',\n",
        "    subset='validation'  # Specify 'validation' for the validation set\n",
        ")"
      ],
      "metadata": {
        "id": "sK11e4gO9lqe",
        "colab": {
          "base_uri": "https://localhost:8080/"
        },
        "outputId": "3d7cf1ac-48a9-4f7a-9e8b-969c5092915a"
      },
      "execution_count": null,
      "outputs": [
        {
          "output_type": "stream",
          "name": "stdout",
          "text": [
            "Found 973 images belonging to 2 classes.\n",
            "Found 242 images belonging to 2 classes.\n"
          ]
        }
      ]
    },
    {
      "cell_type": "code",
      "source": [
        "from tensorflow import keras\n",
        "from keras import Sequential\n",
        "from keras.layers import Dense,Conv2D,MaxPooling2D,Flatten\n",
        "\n",
        "resnet_model = Sequential()    #ResNet50 is a pre-trained model\n",
        "pretrained_model = tf.keras.applications.ResNet50(include_top = False, #because i have my own image of a diff dimension\n",
        "                                                input_shape = (256,256,3),\n",
        "                                                pooling = 'max', classes = 2,\n",
        "                                                weights = 'imagenet')\n",
        "for layer in pretrained_model.layers:\n",
        "    layer.trainable = False  #all layers in the Resnet50 is not trainable; keep those weights; I am going to add my own i/p and other layers\n",
        "\n",
        "resnet_model.add(pretrained_model)\n",
        "resnet_model.add(Flatten())\n",
        "resnet_model.add(Dense(512, activation = 'relu'))\n",
        "resnet_model.add(Dense(1, activation = 'sigmoid'))"
      ],
      "metadata": {
        "id": "XTaPlly69ls1",
        "colab": {
          "base_uri": "https://localhost:8080/"
        },
        "outputId": "bcd82ee3-40e5-4a8f-cf36-8eb839963791"
      },
      "execution_count": null,
      "outputs": [
        {
          "output_type": "stream",
          "name": "stdout",
          "text": [
            "Downloading data from https://storage.googleapis.com/tensorflow/keras-applications/resnet/resnet50_weights_tf_dim_ordering_tf_kernels_notop.h5\n",
            "94765736/94765736 [==============================] - 1s 0us/step\n"
          ]
        }
      ]
    },
    {
      "cell_type": "code",
      "source": [
        "resnet_model.summary()"
      ],
      "metadata": {
        "id": "OAiiDTW49lvJ",
        "colab": {
          "base_uri": "https://localhost:8080/"
        },
        "outputId": "574fcc33-96a0-4a64-e229-c8d4e893a203"
      },
      "execution_count": null,
      "outputs": [
        {
          "output_type": "stream",
          "name": "stdout",
          "text": [
            "Model: \"sequential_2\"\n",
            "_________________________________________________________________\n",
            " Layer (type)                Output Shape              Param #   \n",
            "=================================================================\n",
            " resnet50 (Functional)       (None, 2048)              23587712  \n",
            "                                                                 \n",
            " flatten_2 (Flatten)         (None, 2048)              0         \n",
            "                                                                 \n",
            " dense_6 (Dense)             (None, 512)               1049088   \n",
            "                                                                 \n",
            " dense_7 (Dense)             (None, 1)                 513       \n",
            "                                                                 \n",
            "=================================================================\n",
            "Total params: 24637313 (93.98 MB)\n",
            "Trainable params: 1049601 (4.00 MB)\n",
            "Non-trainable params: 23587712 (89.98 MB)\n",
            "_________________________________________________________________\n"
          ]
        }
      ]
    },
    {
      "cell_type": "code",
      "source": [
        "from keras.optimizers import Adam\n",
        "resnet_model.compile(optimizer=Adam(learning_rate=0.001),\n",
        "                     loss='binary_crossentropy',metrics=['accuracy']) #binary_crossentropy - binary classification"
      ],
      "metadata": {
        "id": "OCZHJkrl9Qh4"
      },
      "execution_count": null,
      "outputs": []
    },
    {
      "cell_type": "code",
      "source": [
        "history = resnet_model.fit(train_data, epochs=3, validation_data=validation_data)"
      ],
      "metadata": {
        "id": "wsFLRK7i9Qj_",
        "colab": {
          "base_uri": "https://localhost:8080/"
        },
        "outputId": "935093a1-6352-4c20-b479-aea8f7837f13"
      },
      "execution_count": null,
      "outputs": [
        {
          "output_type": "stream",
          "name": "stdout",
          "text": [
            "Epoch 1/3\n",
            "31/31 [==============================] - 388s 12s/step - loss: 2.1171 - accuracy: 0.5642 - val_loss: 0.8660 - val_accuracy: 0.6157\n",
            "Epoch 2/3\n",
            "31/31 [==============================] - 362s 12s/step - loss: 0.5117 - accuracy: 0.7492 - val_loss: 0.4877 - val_accuracy: 0.7521\n",
            "Epoch 3/3\n",
            "31/31 [==============================] - 339s 11s/step - loss: 0.3210 - accuracy: 0.8808 - val_loss: 0.4060 - val_accuracy: 0.8058\n"
          ]
        }
      ]
    },
    {
      "cell_type": "code",
      "source": [
        "import matplotlib.pyplot as plt\n",
        "\n",
        "plt.plot(history.history['accuracy'],color='red',label='train')\n",
        "plt.plot(history.history['val_accuracy'],color='blue',label='validation')\n",
        "plt.legend()\n",
        "plt.show()"
      ],
      "metadata": {
        "id": "Pomf5lbC9uhq",
        "colab": {
          "base_uri": "https://localhost:8080/",
          "height": 430
        },
        "outputId": "a668770c-591c-41b1-a8e4-757206253112"
      },
      "execution_count": null,
      "outputs": [
        {
          "output_type": "display_data",
          "data": {
            "text/plain": [
              "<Figure size 640x480 with 1 Axes>"
            ],
            "image/png": "[encoded data removed]"
          },
          "metadata": {}
        }
      ]
    },
    {
      "cell_type": "code",
      "source": [
        "plt.plot(history.history['loss'],color='red',label='train')\n",
        "plt.plot(history.history['val_loss'],color='blue',label='validation')\n",
        "plt.legend()\n",
        "plt.show()"
      ],
      "metadata": {
        "id": "zkRUhSvY9ujt",
        "colab": {
          "base_uri": "https://localhost:8080/",
          "height": 430
        },
        "outputId": "7c3a0b4b-1902-4b54-991a-ad7bf7ada251"
      },
      "execution_count": null,
      "outputs": [
        {
          "output_type": "display_data",
          "data": {
            "text/plain": [
              "<Figure size 640x480 with 1 Axes>"
            ],
            "image/png": "[encoded data removed]"
          },
          "metadata": {}
        }
      ]
    },
    {
      "cell_type": "code",
      "source": [
        "test_datagen = ImageDataGenerator(rescale=1./255)\n",
        "test_data = test_datagen.flow_from_directory(\n",
        "    test_dir,\n",
        "    target_size=(256,256),\n",
        "    batch_size=32,\n",
        "    class_mode='binary'\n",
        ")"
      ],
      "metadata": {
        "id": "DEQZld0g9ull",
        "colab": {
          "base_uri": "https://localhost:8080/"
        },
        "outputId": "c7b0c530-ea7b-4424-d341-fbbae413620b"
      },
      "execution_count": null,
      "outputs": [
        {
          "output_type": "stream",
          "name": "stdout",
          "text": [
            "Found 437 images belonging to 2 classes.\n"
          ]
        }
      ]
    },
    {
      "cell_type": "code",
      "source": [
        "#predict the test data\n",
        "predictions = resnet_model.predict(test_data)\n",
        "print(predictions)"
      ],
      "metadata": {
        "id": "8mF5p7uJ9unY",
        "colab": {
          "base_uri": "https://localhost:8080/"
        },
        "outputId": "696cf51c-877a-4669-bfd1-cfb33ee9d84d"
      },
      "execution_count": null,
      "outputs": [
        {
          "output_type": "stream",
          "name": "stdout",
          "text": [
            "14/14 [==============================] - 146s 10s/step\n",
            "[[9.73403096e-01]\n",
            " [9.92880285e-01]\n",
            " [5.54255426e-01]\n",
            " [8.65639389e-01]\n",
            " [2.85834700e-01]\n",
            " [3.30753550e-02]\n",
            " [9.15630400e-01]\n",
            " [8.61101687e-01]\n",
            " [7.57977128e-01]\n",
            " [2.72965759e-01]\n",
            " [8.47243071e-01]\n",
            " [5.93464226e-02]\n",
            " [4.90563847e-02]\n",
            " [8.60142231e-01]\n",
            " [3.22230533e-02]\n",
            " [8.43148112e-01]\n",
            " [2.43596166e-01]\n",
            " [9.19273436e-01]\n",
            " [8.63278091e-01]\n",
            " [9.30882215e-01]\n",
            " [6.04961766e-03]\n",
            " [6.29296958e-01]\n",
            " [6.04327738e-01]\n",
            " [1.08898804e-02]\n",
            " [6.80933893e-01]\n",
            " [8.42269659e-01]\n",
            " [8.41379821e-01]\n",
            " [2.70782530e-01]\n",
            " [6.23523712e-01]\n",
            " [6.58216774e-01]\n",
            " [8.50480258e-01]\n",
            " [1.05257116e-01]\n",
            " [1.98632717e-01]\n",
            " [1.62905443e-03]\n",
            " [4.19612341e-02]\n",
            " [1.50643796e-01]\n",
            " [2.04339027e-02]\n",
            " [1.78567246e-02]\n",
            " [9.73943174e-01]\n",
            " [2.76196212e-01]\n",
            " [8.34343433e-02]\n",
            " [8.12717080e-02]\n",
            " [6.67378485e-01]\n",
            " [1.63327809e-02]\n",
            " [1.92761227e-01]\n",
            " [9.15630400e-01]\n",
            " [3.51686209e-01]\n",
            " [8.26886237e-01]\n",
            " [3.57759833e-01]\n",
            " [3.42897892e-01]\n",
            " [1.93872172e-02]\n",
            " [5.37333250e-01]\n",
            " [8.80702436e-01]\n",
            " [2.27647889e-02]\n",
            " [4.60129142e-01]\n",
            " [5.38845241e-01]\n",
            " [8.49120438e-01]\n",
            " [8.08555722e-01]\n",
            " [8.37828517e-01]\n",
            " [8.79079700e-01]\n",
            " [8.32190871e-01]\n",
            " [6.30100295e-02]\n",
            " [5.13903201e-01]\n",
            " [1.15867794e-01]\n",
            " [4.08746183e-01]\n",
            " [9.32877779e-01]\n",
            " [1.36744846e-02]\n",
            " [8.68342519e-01]\n",
            " [4.72978145e-01]\n",
            " [1.15749203e-01]\n",
            " [3.65996122e-01]\n",
            " [8.33060563e-01]\n",
            " [7.74103403e-01]\n",
            " [6.79366648e-01]\n",
            " [4.75231884e-03]\n",
            " [6.21612631e-02]\n",
            " [1.94994986e-01]\n",
            " [1.20726138e-01]\n",
            " [4.69691120e-02]\n",
            " [5.82300901e-01]\n",
            " [5.11807390e-02]\n",
            " [8.83018255e-01]\n",
            " [8.41891885e-01]\n",
            " [4.60025817e-01]\n",
            " [7.16680944e-01]\n",
            " [7.48824954e-01]\n",
            " [2.10960045e-01]\n",
            " [2.11553052e-01]\n",
            " [7.73810565e-01]\n",
            " [7.80454218e-01]\n",
            " [7.47825280e-02]\n",
            " [2.32533440e-01]\n",
            " [8.35331440e-01]\n",
            " [8.01613450e-01]\n",
            " [4.05899286e-02]\n",
            " [8.42002988e-01]\n",
            " [1.00923121e-01]\n",
            " [9.00135934e-01]\n",
            " [2.17546839e-02]\n",
            " [6.91449702e-01]\n",
            " [6.21208489e-01]\n",
            " [3.89815748e-01]\n",
            " [9.32877779e-01]\n",
            " [8.03113461e-01]\n",
            " [8.40694308e-01]\n",
            " [3.26909474e-04]\n",
            " [4.31556441e-02]\n",
            " [8.73002112e-01]\n",
            " [6.86623991e-01]\n",
            " [1.21242791e-01]\n",
            " [8.54029953e-01]\n",
            " [8.81434262e-01]\n",
            " [9.09932137e-01]\n",
            " [1.05863877e-01]\n",
            " [9.10537004e-01]\n",
            " [5.52510321e-01]\n",
            " [6.98627770e-01]\n",
            " [6.14450634e-01]\n",
            " [8.73954535e-01]\n",
            " [2.34586317e-02]\n",
            " [1.31625801e-01]\n",
            " [4.75665815e-02]\n",
            " [7.01354861e-01]\n",
            " [8.08555722e-01]\n",
            " [5.12164086e-03]\n",
            " [1.45451715e-02]\n",
            " [8.40694487e-01]\n",
            " [9.99544263e-01]\n",
            " [9.63340044e-01]\n",
            " [9.81225967e-01]\n",
            " [8.42817783e-01]\n",
            " [9.52959061e-01]\n",
            " [8.46660435e-01]\n",
            " [8.54029953e-01]\n",
            " [4.47173677e-02]\n",
            " [2.81162709e-01]\n",
            " [8.52106750e-01]\n",
            " [9.30956006e-01]\n",
            " [5.88083901e-02]\n",
            " [3.40379886e-02]\n",
            " [7.58548319e-01]\n",
            " [2.45153662e-02]\n",
            " [4.70656812e-01]\n",
            " [6.21621788e-01]\n",
            " [7.82874763e-01]\n",
            " [9.19479132e-01]\n",
            " [8.63278091e-01]\n",
            " [8.55289459e-01]\n",
            " [7.90051520e-01]\n",
            " [8.92224252e-01]\n",
            " [7.31092513e-01]\n",
            " [8.28558564e-01]\n",
            " [9.19273436e-01]\n",
            " [7.99167991e-01]\n",
            " [8.79687667e-02]\n",
            " [8.55093360e-01]\n",
            " [8.03113461e-01]\n",
            " [5.52510321e-01]\n",
            " [8.73954594e-01]\n",
            " [8.64269257e-01]\n",
            " [6.47998512e-01]\n",
            " [7.26661235e-02]\n",
            " [7.91761637e-01]\n",
            " [2.17658351e-03]\n",
            " [3.51866663e-01]\n",
            " [5.07662706e-02]\n",
            " [1.99960545e-01]\n",
            " [1.22939937e-01]\n",
            " [6.77741051e-01]\n",
            " [2.71247506e-01]\n",
            " [2.39203379e-01]\n",
            " [2.42449433e-01]\n",
            " [8.34305465e-01]\n",
            " [9.81782973e-01]\n",
            " [8.35331440e-01]\n",
            " [2.77966112e-01]\n",
            " [7.77402520e-02]\n",
            " [2.78853104e-02]\n",
            " [4.53734756e-01]\n",
            " [8.61101687e-01]\n",
            " [8.55289459e-01]\n",
            " [5.36444664e-01]\n",
            " [2.45123625e-01]\n",
            " [8.08555722e-01]\n",
            " [8.31722617e-01]\n",
            " [4.21387143e-02]\n",
            " [8.47186446e-01]\n",
            " [3.76366109e-01]\n",
            " [4.84956205e-01]\n",
            " [2.21354235e-02]\n",
            " [2.81149834e-01]\n",
            " [5.70841789e-01]\n",
            " [8.90199900e-01]\n",
            " [7.30932117e-01]\n",
            " [5.89451373e-01]\n",
            " [3.15049469e-01]\n",
            " [2.38995492e-01]\n",
            " [8.39136481e-01]\n",
            " [2.70782530e-01]\n",
            " [3.32714319e-01]\n",
            " [5.01907766e-01]\n",
            " [5.78445680e-02]\n",
            " [1.41010359e-01]\n",
            " [8.68342519e-01]\n",
            " [4.13813023e-03]\n",
            " [3.49179506e-01]\n",
            " [6.74356043e-01]\n",
            " [7.44462371e-01]\n",
            " [8.51868689e-01]\n",
            " [6.05544865e-01]\n",
            " [6.09514534e-01]\n",
            " [1.22696981e-02]\n",
            " [1.63108766e-01]\n",
            " [2.87714541e-01]\n",
            " [8.16325247e-01]\n",
            " [8.37828517e-01]\n",
            " [9.30956006e-01]\n",
            " [8.34305465e-01]\n",
            " [7.45536327e-01]\n",
            " [2.55470276e-01]\n",
            " [2.02295603e-03]\n",
            " [5.58134735e-01]\n",
            " [2.69969374e-01]\n",
            " [7.00648248e-01]\n",
            " [4.77978662e-02]\n",
            " [5.68440855e-01]\n",
            " [5.60363412e-01]\n",
            " [7.94578612e-01]\n",
            " [1.66261569e-02]\n",
            " [2.72223383e-01]\n",
            " [8.80702436e-01]\n",
            " [7.90051520e-01]\n",
            " [3.62233281e-01]\n",
            " [1.35517478e-01]\n",
            " [6.08596876e-02]\n",
            " [9.37009156e-01]\n",
            " [1.51416317e-01]\n",
            " [1.56377658e-01]\n",
            " [8.56853426e-02]\n",
            " [7.91504622e-01]\n",
            " [4.59318191e-01]\n",
            " [9.73403096e-01]\n",
            " [7.91226506e-01]\n",
            " [8.29487741e-01]\n",
            " [7.04509854e-01]\n",
            " [2.91199446e-01]\n",
            " [8.04220259e-01]\n",
            " [9.97258782e-01]\n",
            " [9.27770376e-01]\n",
            " [9.53917444e-01]\n",
            " [6.23836160e-01]\n",
            " [1.85316771e-01]\n",
            " [7.46369660e-01]\n",
            " [6.05462253e-01]\n",
            " [5.43669283e-01]\n",
            " [6.23755395e-01]\n",
            " [9.63340044e-01]\n",
            " [5.70188820e-01]\n",
            " [8.59627545e-01]\n",
            " [1.91270575e-01]\n",
            " [3.35501015e-01]\n",
            " [9.83713508e-01]\n",
            " [4.39196497e-01]\n",
            " [7.80056775e-01]\n",
            " [9.52655852e-01]\n",
            " [8.79079700e-01]\n",
            " [8.29487741e-01]\n",
            " [5.85848987e-01]\n",
            " [8.54329109e-01]\n",
            " [6.02677643e-01]\n",
            " [8.04220259e-01]\n",
            " [9.73943174e-01]\n",
            " [8.96417946e-02]\n",
            " [3.63316387e-02]\n",
            " [2.46849895e-01]\n",
            " [5.63056171e-01]\n",
            " [1.11067913e-01]\n",
            " [1.11841172e-01]\n",
            " [8.97144258e-01]\n",
            " [2.45380044e-01]\n",
            " [8.31194758e-01]\n",
            " [8.81434262e-01]\n",
            " [1.39340058e-01]\n",
            " [2.07052067e-01]\n",
            " [8.26886237e-01]\n",
            " [3.86142462e-01]\n",
            " [3.89132686e-02]\n",
            " [9.21495378e-01]\n",
            " [4.26294059e-02]\n",
            " [6.68147266e-01]\n",
            " [8.19602251e-01]\n",
            " [3.63422334e-02]\n",
            " [1.07920066e-01]\n",
            " [8.22704732e-01]\n",
            " [2.38995492e-01]\n",
            " [3.68487805e-01]\n",
            " [8.19602251e-01]\n",
            " [8.38185668e-01]\n",
            " [3.70123275e-02]\n",
            " [8.38185668e-01]\n",
            " [1.65367573e-01]\n",
            " [4.57645953e-01]\n",
            " [3.40056121e-01]\n",
            " [8.92224252e-01]\n",
            " [8.32190871e-01]\n",
            " [7.21558750e-01]\n",
            " [4.99103079e-03]\n",
            " [8.31722617e-01]\n",
            " [7.54171098e-03]\n",
            " [6.21433377e-01]\n",
            " [9.21495378e-01]\n",
            " [8.73002112e-01]\n",
            " [6.80310667e-01]\n",
            " [8.16325247e-01]\n",
            " [8.10799360e-01]\n",
            " [7.10727036e-01]\n",
            " [5.55532634e-01]\n",
            " [6.83271289e-01]\n",
            " [2.94497982e-02]\n",
            " [2.81019241e-01]\n",
            " [4.26066965e-01]\n",
            " [7.33383417e-01]\n",
            " [2.92228311e-02]\n",
            " [3.76078576e-01]\n",
            " [5.29912829e-01]\n",
            " [7.80454218e-01]\n",
            " [3.79059911e-01]\n",
            " [2.50632584e-01]\n",
            " [7.33344555e-01]\n",
            " [5.00649989e-01]\n",
            " [8.86569679e-01]\n",
            " [5.89053571e-01]\n",
            " [8.60142231e-01]\n",
            " [1.83423627e-02]\n",
            " [8.46660435e-01]\n",
            " [1.25877159e-02]\n",
            " [1.45473212e-01]\n",
            " [8.42584133e-01]\n",
            " [6.30924344e-01]\n",
            " [6.94043100e-01]\n",
            " [9.73943174e-01]\n",
            " [2.38995492e-01]\n",
            " [5.02683520e-01]\n",
            " [2.36543328e-01]\n",
            " [6.98990762e-01]\n",
            " [4.65748847e-01]\n",
            " [8.42584133e-01]\n",
            " [6.79480851e-01]\n",
            " [4.92169112e-01]\n",
            " [8.97144258e-01]\n",
            " [9.95516062e-01]\n",
            " [4.11040217e-01]\n",
            " [6.77848756e-01]\n",
            " [7.94578612e-01]\n",
            " [9.95516062e-01]\n",
            " [5.70841551e-01]\n",
            " [8.29740226e-01]\n",
            " [7.29963541e-01]\n",
            " [4.62654948e-01]\n",
            " [7.27202475e-01]\n",
            " [8.41325879e-01]\n",
            " [2.41191700e-01]\n",
            " [9.92880285e-01]\n",
            " [6.82454109e-01]\n",
            " [8.47243071e-01]\n",
            " [8.26886237e-01]\n",
            " [4.77485895e-01]\n",
            " [1.75238196e-02]\n",
            " [7.01815724e-01]\n",
            " [6.59132481e-01]\n",
            " [2.27218796e-03]\n",
            " [3.60439777e-01]\n",
            " [9.70341325e-01]\n",
            " [3.50136161e-01]\n",
            " [8.42269659e-01]\n",
            " [8.99892032e-01]\n",
            " [2.33086288e-01]\n",
            " [4.64508198e-02]\n",
            " [6.41745925e-01]\n",
            " [3.17259461e-01]\n",
            " [9.09932137e-01]\n",
            " [3.65599766e-02]\n",
            " [6.42067567e-03]\n",
            " [8.92568052e-01]\n",
            " [8.42003107e-01]\n",
            " [9.53917444e-01]\n",
            " [8.41891885e-01]\n",
            " [8.61078382e-01]\n",
            " [8.41379821e-01]\n",
            " [5.52510321e-01]\n",
            " [5.19837253e-02]\n",
            " [8.58648401e-03]\n",
            " [9.53679085e-01]\n",
            " [6.68937862e-02]\n",
            " [2.13728026e-01]\n",
            " [8.47186446e-01]\n",
            " [1.76366046e-01]\n",
            " [4.81398195e-01]\n",
            " [1.16204537e-01]\n",
            " [9.37009156e-01]\n",
            " [2.85359360e-02]\n",
            " [8.49120438e-01]\n",
            " [9.13099870e-02]\n",
            " [3.39452326e-02]\n",
            " [8.01354885e-01]\n",
            " [1.63690105e-01]\n",
            " [1.13416061e-01]\n",
            " [8.41325879e-01]\n",
            " [8.99545372e-01]\n",
            " [8.90199900e-01]\n",
            " [5.02327025e-01]\n",
            " [8.54329109e-01]\n",
            " [2.89992452e-01]\n",
            " [9.52959061e-01]\n",
            " [7.76494503e-01]\n",
            " [8.79928887e-01]\n",
            " [2.04910740e-01]\n",
            " [4.04544294e-01]\n",
            " [4.09169257e-01]\n",
            " [8.98476601e-01]\n",
            " [1.47808880e-01]\n",
            " [6.55455351e-01]\n",
            " [6.98990762e-01]\n",
            " [4.27021235e-01]\n",
            " [9.21495378e-01]\n",
            " [7.58548319e-01]\n",
            " [9.19479132e-01]\n",
            " [9.30882215e-01]\n",
            " [5.68342656e-02]\n",
            " [6.18847609e-01]\n",
            " [9.73943174e-01]\n",
            " [7.09116817e-01]\n",
            " [7.51480758e-01]\n",
            " [8.41891885e-01]\n",
            " [7.76494563e-01]\n",
            " [8.55093300e-01]\n",
            " [4.68883395e-01]]\n"
          ]
        }
      ]
    },
    {
      "cell_type": "code",
      "source": [
        "len(predictions)"
      ],
      "metadata": {
        "id": "LWqXS4Tm9upM",
        "colab": {
          "base_uri": "https://localhost:8080/"
        },
        "outputId": "eaf778f0-199c-4d4f-d570-b2c8f3200467"
      },
      "execution_count": null,
      "outputs": [
        {
          "output_type": "execute_result",
          "data": {
            "text/plain": [
              "437"
            ]
          },
          "metadata": {},
          "execution_count": 51
        }
      ]
    },
    {
      "cell_type": "code",
      "source": [
        "from sklearn.metrics import confusion_matrix, classification_report\n",
        "\n",
        "# Assuming you have ground truth labels (true_labels) and predicted labels (predictions)\n",
        "true_labels = test_data.classes\n",
        "predicted_labels = (predictions > 0.5).astype(int)  # Adjust the threshold as needed\n",
        "\n",
        "# Calculate confusion matrix\n",
        "cm = confusion_matrix(true_labels, predicted_labels)\n",
        "\n",
        "# Print confusion matrix\n",
        "print(\"Confusion Matrix:\")\n",
        "print(cm)\n",
        "\n",
        "# Print classification report\n",
        "print(\"Classification Report:\")\n",
        "print(classification_report(true_labels, predicted_labels))"
      ],
      "metadata": {
        "colab": {
          "base_uri": "https://localhost:8080/"
        },
        "id": "VCNlrYhrk_3h",
        "outputId": "79df2457-4048-41be-82c2-9fd5f28875a9"
      },
      "execution_count": null,
      "outputs": [
        {
          "output_type": "stream",
          "name": "stdout",
          "text": [
            "Confusion Matrix:\n",
            "[[ 88 111]\n",
            " [ 94 144]]\n",
            "Classification Report:\n",
            "              precision    recall  f1-score   support\n",
            "\n",
            "           0       0.48      0.44      0.46       199\n",
            "           1       0.56      0.61      0.58       238\n",
            "\n",
            "    accuracy                           0.53       437\n",
            "   macro avg       0.52      0.52      0.52       437\n",
            "weighted avg       0.53      0.53      0.53       437\n",
            "\n"
          ]
        }
      ]
    }
  ]
}